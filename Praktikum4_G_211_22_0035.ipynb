{
  "nbformat": 4,
  "nbformat_minor": 0,
  "metadata": {
    "colab": {
      "provenance": []
    },
    "kernelspec": {
      "name": "python3",
      "display_name": "Python 3"
    },
    "language_info": {
      "name": "python"
    }
  },
  "cells": [
    {
      "cell_type": "code",
      "source": [
        "def checkPangram(s):\n",
        "    List = []\n",
        "    # create list of 26 characters and set False for each entry\n",
        "    for i in range(26):\n",
        "        List.append(False)\n",
        "    # converting the sentence to lowercase and iterating\n",
        "    # over the sentence\n",
        "    for c in s.lower():\n",
        "        if not c == \" \":\n",
        "            # make the corresponding entry True\n",
        "            List[ord(c) - ord('a')] = True\n",
        "    # check if any character is missing then return False\n",
        "    for ch in List:\n",
        "        if ch == False:\n",
        "            return False\n",
        "    return True\n",
        "\n",
        "# Driver Program to test the function\n",
        "sentence = \"The quick brown fox jumps over the lazy dog\"\n",
        "if checkPangram(sentence):\n",
        "    print(f'\"{sentence}\" is a pangram')\n",
        "else:\n",
        "    print(f'\"{sentence}\" is not a pangram')\n"
      ],
      "metadata": {
        "colab": {
          "base_uri": "https://localhost:8080/"
        },
        "id": "zpxIuGPHXZnu",
        "outputId": "0520f271-1409-4b9c-b4e2-5fe7b5066f1d"
      },
      "execution_count": 3,
      "outputs": [
        {
          "output_type": "stream",
          "name": "stdout",
          "text": [
            "\"The quick brown fox jumps over the lazy dog\" is a pangram\n"
          ]
        }
      ]
    }
  ]
}