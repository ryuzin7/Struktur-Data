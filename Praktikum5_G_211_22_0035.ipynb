{
  "nbformat": 4,
  "nbformat_minor": 0,
  "metadata": {
    "colab": {
      "provenance": [],
      "authorship_tag": "ABX9TyO3/BgDkRYLVNGGaR60VeYG",
      "include_colab_link": true
    },
    "kernelspec": {
      "name": "python3",
      "display_name": "Python 3"
    },
    "language_info": {
      "name": "python"
    }
  },
  "cells": [
    {
      "cell_type": "markdown",
      "metadata": {
        "id": "view-in-github",
        "colab_type": "text"
      },
      "source": [
        "<a href=\"https://colab.research.google.com/github/ryuzin7/Struktur-Data/blob/main/Praktikum5_G_211_22_0035.ipynb\" target=\"_parent\"><img src=\"https://colab.research.google.com/assets/colab-badge.svg\" alt=\"Open In Colab\"/></a>"
      ]
    },
    {
      "cell_type": "code",
      "execution_count": 1,
      "metadata": {
        "colab": {
          "base_uri": "https://localhost:8080/"
        },
        "id": "2AbaBDEIbcj-",
        "outputId": "1ee97ee5-bb3e-4788-f1b2-0f08d6d656d5"
      },
      "outputs": [
        {
          "output_type": "stream",
          "name": "stdout",
          "text": [
            "Array sebelum diurutkan: [64, 34, 25, 12, 22, 11, 90]\n",
            "Array setelah diurutkan dengan Bubble Sort: [64, 34, 25, 12, 22, 11, 90]\n",
            "Array setelah diurutkan dengan Selection Sort: [64, 34, 25, 12, 22, 11, 90]\n",
            "Array setelah diurutkan dengan Insertion Sort: [64, 34, 25, 12, 22, 11, 90]\n"
          ]
        }
      ],
      "source": [
        "# Bubble Sort\n",
        "def bubble_sort(arr):\n",
        "    n = len(arr)\n",
        "    for i in range(n):\n",
        "        for j in range(0, n-i-1):\n",
        "            if arr[j] > arr[j+1]:\n",
        "                arr[j], arr[j+1] = arr[j+1], arr[j]\n",
        "\n",
        "# Selection Sort\n",
        "def selection_sort(arr):\n",
        "    n = len(arr)\n",
        "    for i in range(n):\n",
        "        min_index = i\n",
        "        for j in range(i+1, n):\n",
        "            if arr[j] < arr[min_index]:\n",
        "                min_index = j\n",
        "        arr[i], arr[min_index] = arr[min_index], arr[i]\n",
        "\n",
        "# Insertion Sort\n",
        "def insertion_sort(arr):\n",
        "    n = len(arr)\n",
        "    for i in range(1, n):\n",
        "        key = arr[i]\n",
        "        j = i - 1\n",
        "        while j >= 0 and key < arr[j]:\n",
        "            arr[j + 1] = arr[j]\n",
        "            j -= 1\n",
        "        arr[j + 1] = key\n",
        "\n",
        "# Contoh penggunaan\n",
        "arr = [64, 34, 25, 12, 22, 11, 90]\n",
        "print(\"Array sebelum diurutkan:\", arr)\n",
        "\n",
        "# Bubble Sort\n",
        "bubble_sort(arr.copy())\n",
        "print(\"Array setelah diurutkan dengan Bubble Sort:\", arr)\n",
        "\n",
        "# Selection Sort\n",
        "arr = [64, 34, 25, 12, 22, 11, 90]\n",
        "selection_sort(arr.copy())\n",
        "print(\"Array setelah diurutkan dengan Selection Sort:\", arr)\n",
        "\n",
        "# Insertion Sort\n",
        "arr = [64, 34, 25, 12, 22, 11, 90]\n",
        "insertion_sort(arr.copy())\n",
        "print(\"Array setelah diurutkan dengan Insertion Sort:\", arr)\n"
      ]
    }
  ]
}