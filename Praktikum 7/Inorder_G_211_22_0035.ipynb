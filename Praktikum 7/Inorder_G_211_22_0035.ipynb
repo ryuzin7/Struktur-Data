{
  "nbformat": 4,
  "nbformat_minor": 0,
  "metadata": {
    "colab": {
      "provenance": []
    },
    "kernelspec": {
      "name": "python3",
      "display_name": "Python 3"
    },
    "language_info": {
      "name": "python"
    }
  },
  "cells": [
    {
      "cell_type": "code",
      "execution_count": 1,
      "metadata": {
        "colab": {
          "base_uri": "https://localhost:8080/"
        },
        "id": "PjdRzoquhSnJ",
        "outputId": "9fcc2980-44dc-4f42-9ee5-7f8e9f867d91"
      },
      "outputs": [
        {
          "output_type": "stream",
          "name": "stdout",
          "text": [
            "Preorder traversal of binary tree is:\n",
            "1 2 4 5 3 "
          ]
        }
      ],
      "source": [
        "# Python3 program for tree traversals\n",
        "# preorder\n",
        "\n",
        "class Node:\n",
        "    def __init__(self, key):\n",
        "        self.left = None\n",
        "        self.right = None\n",
        "        self.val = key\n",
        "\n",
        "# A function to do preorder tree traversal\n",
        "def printPreorder(root):\n",
        "    if root:\n",
        "        # First print the data of node\n",
        "        print(root.val, end=\" \")\n",
        "\n",
        "        # Then recur on left child\n",
        "        printPreorder(root.left)\n",
        "\n",
        "        # Now recur on right child\n",
        "        printPreorder(root.right)\n",
        "\n",
        "# Driver code\n",
        "if __name__ == \"__main__\":\n",
        "    root = Node(1)\n",
        "    root.left = Node(2)\n",
        "    root.right = Node(3)\n",
        "    root.left.left = Node(4)\n",
        "    root.left.right = Node(5)\n",
        "\n",
        "    # Function call\n",
        "    print(\"Preorder traversal of binary tree is:\")\n",
        "    printPreorder(root)\n"
      ]
    }
  ]
}