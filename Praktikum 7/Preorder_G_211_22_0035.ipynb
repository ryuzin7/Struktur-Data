{
  "nbformat": 4,
  "nbformat_minor": 0,
  "metadata": {
    "colab": {
      "provenance": []
    },
    "kernelspec": {
      "name": "python3",
      "display_name": "Python 3"
    },
    "language_info": {
      "name": "python"
    }
  },
  "cells": [
    {
      "cell_type": "code",
      "execution_count": 6,
      "metadata": {
        "colab": {
          "base_uri": "https://localhost:8080/"
        },
        "id": "bbiccWuEeSqz",
        "outputId": "5f4ed4e5-302c-4365-b2dc-1553709bc7be"
      },
      "outputs": [
        {
          "output_type": "stream",
          "name": "stdout",
          "text": [
            "Inorder traversal of binary tree is:\n",
            "4 2 5 1 3 "
          ]
        }
      ],
      "source": [
        "# Python3 program for tree traversals\n",
        "# inorder\n",
        "\n",
        "class Node:\n",
        "    def __init__(self, key):\n",
        "        self.left = None\n",
        "        self.right = None\n",
        "        self.val = key\n",
        "\n",
        "# A function to do inorder tree traversal\n",
        "def printInorder(root):\n",
        "    if root:\n",
        "        # First recur on left child\n",
        "        printInorder(root.left)\n",
        "\n",
        "        # Then print the data of node\n",
        "        print(root.val, end=\" \")\n",
        "\n",
        "        # Now recur on right child\n",
        "        printInorder(root.right)\n",
        "\n",
        "# Driver code\n",
        "if __name__ == \"__main__\":\n",
        "    root = Node(1)\n",
        "    root.left = Node(2)\n",
        "    root.right = Node(3)\n",
        "    root.left.left = Node(4)\n",
        "    root.left.right = Node(5)\n",
        "\n",
        "    # Function call\n",
        "    print(\"Inorder traversal of binary tree is:\")\n",
        "    printInorder(root)\n",
        "\n",
        "\n"
      ]
    },
    {
      "cell_type": "code",
      "source": [],
      "metadata": {
        "id": "PrqNrQ26fWoW"
      },
      "execution_count": null,
      "outputs": []
    }
  ]
}