{
  "nbformat": 4,
  "nbformat_minor": 0,
  "metadata": {
    "colab": {
      "provenance": []
    },
    "kernelspec": {
      "name": "python3",
      "display_name": "Python 3"
    },
    "language_info": {
      "name": "python"
    }
  },
  "cells": [
    {
      "cell_type": "code",
      "execution_count": 1,
      "metadata": {
        "colab": {
          "base_uri": "https://localhost:8080/"
        },
        "id": "6rfnbxptiKeF",
        "outputId": "fa544732-02cd-4e70-922a-1ba1ef3312da"
      },
      "outputs": [
        {
          "output_type": "stream",
          "name": "stdout",
          "text": [
            "Postorder traversal of binary tree is:\n",
            "4 5 2 3 1 "
          ]
        }
      ],
      "source": [
        "# Python3 program for tree traversals\n",
        "# postorder\n",
        "\n",
        "class Node:\n",
        "    def __init__(self, key):\n",
        "        self.left = None\n",
        "        self.right = None\n",
        "        self.val = key\n",
        "\n",
        "# A function to do postorder tree traversal\n",
        "def printPostorder(root):\n",
        "    if root:\n",
        "        # First recur on left child\n",
        "        printPostorder(root.left)\n",
        "\n",
        "        # Then recur on right child\n",
        "        printPostorder(root.right)\n",
        "\n",
        "        # Now print the data of node\n",
        "        print(root.val, end=\" \")\n",
        "\n",
        "# Driver code\n",
        "if __name__ == \"__main__\":\n",
        "    root = Node(1)\n",
        "    root.left = Node(2)\n",
        "    root.right = Node(3)\n",
        "    root.left.left = Node(4)\n",
        "    root.left.right = Node(5)\n",
        "\n",
        "    # Function call\n",
        "    print(\"Postorder traversal of binary tree is:\")\n",
        "    printPostorder(root)\n"
      ]
    }
  ]
}